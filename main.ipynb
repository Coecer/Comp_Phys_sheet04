{
 "cells": [
  {
   "cell_type": "code",
   "execution_count": 3,
   "id": "c03ab162",
   "metadata": {},
   "outputs": [],
   "source": [
    "from misc import timeit\n",
    "import numpy as np\n",
    "from Simulation import SimulationThermostat\n",
    "import pandas as pd\n",
    "import matplotlib.pyplot as plt\n",
    "import settings"
   ]
  },
  {
   "cell_type": "code",
   "execution_count": 4,
   "id": "ba43a411",
   "metadata": {},
   "outputs": [
    {
     "ename": "AttributeError",
     "evalue": "module 'settings' has no attribute 'n'",
     "output_type": "error",
     "traceback": [
      "\u001b[31m---------------------------------------------------------------------------\u001b[39m",
      "\u001b[31mAttributeError\u001b[39m                            Traceback (most recent call last)",
      "\u001b[36mCell\u001b[39m\u001b[36m \u001b[39m\u001b[32mIn[4]\u001b[39m\u001b[32m, line 1\u001b[39m\n\u001b[32m----> \u001b[39m\u001b[32m1\u001b[39m g=\u001b[43mSimulationThermostat\u001b[49m\u001b[43m(\u001b[49m\u001b[38;5;28;43;01mTrue\u001b[39;49;00m\u001b[43m,\u001b[49m\u001b[43m \u001b[49m\u001b[33;43m'\u001b[39;49m\u001b[33;43mrun05\u001b[39;49m\u001b[33;43m'\u001b[39;49m\u001b[43m,\u001b[49m\u001b[43m \u001b[49m\u001b[38;5;28;43;01mTrue\u001b[39;49;00m\u001b[43m,\u001b[49m\u001b[43m \u001b[49m\u001b[33;43m'\u001b[39;49m\u001b[33;43mEnergyrun05\u001b[39;49m\u001b[33;43m'\u001b[39;49m\u001b[43m,\u001b[49m\u001b[43m \u001b[49m\u001b[38;5;28;43;01mFalse\u001b[39;49;00m\u001b[43m,\u001b[49m\u001b[43m \u001b[49m\u001b[33;43m'\u001b[39;49m\u001b[33;43m'\u001b[39;49m\u001b[43m,\u001b[49m\u001b[43m \u001b[49m\u001b[32;43m20\u001b[39;49m\u001b[43m)\u001b[49m\n",
      "\u001b[36mFile \u001b[39m\u001b[32mc:\\Users\\jonas\\OneDrive\\Uni Freiburg\\2_Sem_MSc\\Computational_Physics\\exercise_sheets\\sheet_04\\Simulation.py:15\u001b[39m, in \u001b[36mSimulationThermostat\u001b[39m\u001b[34m(wT, Tname, wE, Ename, wG, Gname, everyN)\u001b[39m\n\u001b[32m     12\u001b[39m \u001b[38;5;28;01mdef\u001b[39;00m\u001b[38;5;250m \u001b[39m\u001b[34mSimulationThermostat\u001b[39m(wT,Tname, wE, Ename, wG, Gname, everyN): \n\u001b[32m     13\u001b[39m     \u001b[38;5;66;03m# initialize shit\u001b[39;00m\n\u001b[32m     14\u001b[39m     settings.init()\n\u001b[32m---> \u001b[39m\u001b[32m15\u001b[39m     x, y, z, vx, vy, vz = \u001b[43minitialize\u001b[49m\u001b[43m.\u001b[49m\u001b[43mInitializeAtoms\u001b[49m\u001b[43m(\u001b[49m\u001b[43m)\u001b[49m\n\u001b[32m     17\u001b[39m     fx, fy, fz, epot = force.forceLJ(x, y, z, settings.N, settings.eps, settings.mass, settings.sig, settings.cutoff, settings.L, wE)\n\u001b[32m     19\u001b[39m     \u001b[38;5;66;03m# open documents for eq run\u001b[39;00m\n",
      "\u001b[36mFile \u001b[39m\u001b[32mc:\\Users\\jonas\\OneDrive\\Uni Freiburg\\2_Sem_MSc\\Computational_Physics\\exercise_sheets\\sheet_04\\initialize.py:20\u001b[39m, in \u001b[36mInitializeAtoms\u001b[39m\u001b[34m()\u001b[39m\n\u001b[32m     17\u001b[39m vy = np.zeros(shape=(settings.N))\n\u001b[32m     18\u001b[39m vz = np.zeros(shape=(settings.N))\n\u001b[32m---> \u001b[39m\u001b[32m20\u001b[39m \u001b[38;5;28;01mwhile\u001b[39;00m nx < \u001b[43msettings\u001b[49m\u001b[43m.\u001b[49m\u001b[43mn\u001b[49m:\n\u001b[32m     21\u001b[39m     ny=\u001b[32m0\u001b[39m\n\u001b[32m     22\u001b[39m     \u001b[38;5;28;01mwhile\u001b[39;00m ny < settings.n:\n",
      "\u001b[31mAttributeError\u001b[39m: module 'settings' has no attribute 'n'"
     ]
    }
   ],
   "source": [
    "g=SimulationThermostat(True, 'run05', True, 'Energyrun05', False, '', 20)"
   ]
  },
  {
   "cell_type": "code",
   "execution_count": null,
   "id": "2162f53c",
   "metadata": {},
   "outputs": [],
   "source": [
    "energyprod = pd.read_csv('Energyrun0520prod', sep= ' ', header= None ).values\n",
    "energyeq = pd.read_csv('Energyrun0520eq', sep= ' ', header= None ).values\n"
   ]
  },
  {
   "cell_type": "code",
   "execution_count": null,
   "id": "0b1ca1a5",
   "metadata": {},
   "outputs": [],
   "source": [
    "\n",
    "\n",
    "plt.plot(energyprod[:,0],energyprod[:,1]/4.184e-6, label='Epot')\n",
    "plt.plot(energyprod[:,0],energyprod[:,2]/4.184e-6, label = 'Ekin')\n",
    "#plt.plot(energyprod[:,0],energyprod[:,2]/4.184e-6+ energyprod[:,1]/4.184e-6, label='Etot')\n",
    "plt.xlabel('time in fs')\n",
    "plt.ylabel('Energy in kcal')\n",
    "plt.legend()\n",
    "plt.savefig('Energy05prod')\n",
    "print(np.mean(energyprod[:,1]/4.184e-6), np.std(energyprod[:,1]/4.184e-6))"
   ]
  },
  {
   "cell_type": "code",
   "execution_count": null,
   "id": "6134f3bc",
   "metadata": {},
   "outputs": [],
   "source": [
    "s0 =1\n",
    "for a in np.linspace(10,20,1000):\n",
    "    std= np.std(a*energyprod[:,2]/4.184e-6+ energyprod[:,1]/4.184e-6)\n",
    "    if std < s0:\n",
    "        tp = (a,std)\n",
    "    s0 = std\n",
    "print(tp)"
   ]
  },
  {
   "cell_type": "code",
   "execution_count": null,
   "id": "b8d30d41",
   "metadata": {},
   "outputs": [],
   "source": [
    "nbins = int(settings.L/2 / settings.dr)\n",
    "r = np.linspace(0,nbins* settings.dr, nbins) + 1/3*settings.dr\n",
    "\n",
    "plt.plot(r,g, label='g(r)')\n",
    "plt.axvline(r[np.argmin(g[35:])+ 35], color='black', label='minimum')\n",
    "plt.xlabel('distance in nm')\n",
    "plt.ylabel('g(r)')\n",
    "plt.legend()\n",
    "plt.savefig('g05prod')\n",
    "\n",
    "#plt.yscale('log')"
   ]
  },
  {
   "cell_type": "code",
   "execution_count": null,
   "id": "914ef063",
   "metadata": {},
   "outputs": [],
   "source": [
    "r[np.argmin(g[35:])+ 35]"
   ]
  },
  {
   "cell_type": "code",
   "execution_count": null,
   "id": "06a3cb75",
   "metadata": {},
   "outputs": [],
   "source": [
    "settings.init()"
   ]
  },
  {
   "cell_type": "code",
   "execution_count": null,
   "id": "cdca8fe2",
   "metadata": {},
   "outputs": [],
   "source": [
    "print(settings.rho)\n",
    "print(512/settings.L**3)"
   ]
  }
 ],
 "metadata": {
  "kernelspec": {
   "display_name": "Python 3",
   "language": "python",
   "name": "python3"
  },
  "language_info": {
   "codemirror_mode": {
    "name": "ipython",
    "version": 3
   },
   "file_extension": ".py",
   "mimetype": "text/x-python",
   "name": "python",
   "nbconvert_exporter": "python",
   "pygments_lexer": "ipython3",
   "version": "3.13.2"
  }
 },
 "nbformat": 4,
 "nbformat_minor": 5
}
